{
 "cells": [
  {
   "cell_type": "code",
   "execution_count": 40,
   "metadata": {},
   "outputs": [],
   "source": [
    "import cohere\n",
    "import pandas as pd\n",
    "import numpy as np\n",
    "import os\n",
    "from dotenv import load_dotenv\n",
    "# from sklearn.metrics import classification_report, confusion_matrix\n",
    "import matplotlib.pyplot as plt\n",
    "import seaborn as sns\n",
    "import tqdm\n",
    "\n",
    "load_dotenv()\n",
    "\n",
    "co = cohere.Client(os.getenv(\"COHERE_API_KEY\"))"
   ]
  },
  {
   "cell_type": "code",
   "execution_count": 11,
   "metadata": {},
   "outputs": [
    {
     "name": "stdout",
     "output_type": "stream",
     "text": [
      "...\n",
      "...\n",
      "validated\n"
     ]
    }
   ],
   "source": [
    "# Convert Data\n",
    "data_pth = \"data/train.txt\"\n",
    "df = pd.read_csv(data_pth, sep=\";\", header=None, names=['text', 'label'])\n",
    "df.to_csv(\"data/transformed.csv\", index=False)\n",
    "\n",
    "\n",
    "single_label_dataset = co.datasets.create(\n",
    "    name=\"single-label-dataset\",\n",
    "    data=open(\"data/transformed.csv\", \"rb\"),\n",
    "    type=\"single-label-classification-finetune-input\"\n",
    ")\n",
    "\n",
    "print(co.wait(single_label_dataset).dataset.validation_status)\n",
    "\n",
    "from cohere.finetuning.finetuning import(\n",
    "    BaseModel,\n",
    "    FinetunedModel,\n",
    "    Settings,\n",
    ")"
   ]
  },
  {
   "cell_type": "code",
   "execution_count": 7,
   "metadata": {},
   "outputs": [
    {
     "name": "stdout",
     "output_type": "stream",
     "text": [
      "Unexpected response format: finetuned_models=[FinetunedModel(id='c62448a1-530a-45bb-8ca4-9e4950f39ac0', name='single-label-finetune', creator_id='89783f58-3842-4032-8f10-9ec9fae0ff55', organization_id='4dcd1a7b-dcae-4e35-a6e6-8c444318f7f0', settings=Settings(base_model=BaseModel(name='english', version='1.0.0', base_type='BASE_TYPE_CLASSIFICATION', strategy='STRATEGY_TFEW'), dataset_id='single-label-dataset-tvf7wf', hyperparameters=None, multi_label=None, wandb=None), status='STATUS_READY', created_at=datetime.datetime(2025, 3, 13, 18, 56, 23, 717399, tzinfo=datetime.timezone.utc), updated_at=datetime.datetime(2025, 3, 13, 19, 12, 59, 738757, tzinfo=datetime.timezone.utc), completed_at=datetime.datetime(2025, 3, 13, 19, 12, 59, 738757, tzinfo=datetime.timezone.utc), last_used=None)] next_page_token=None total_size=1\n"
     ]
    }
   ],
   "source": [
    "# List all fine-tuned models\n",
    "finetuned_models = co.finetuning.list_finetuned_models()\n",
    "\n",
    "# Print the models\n",
    "if isinstance(finetuned_models, tuple) and len(finetuned_models) >= 2:\n",
    "    # Get the list of models from the second element of the tuple\n",
    "    models_list = finetuned_models[1]\n",
    "\n",
    "    # Print each model's details\n",
    "    for model in models_list:\n",
    "        print(f\"ID: {model.id}\")\n",
    "        print(f\"Name: {model.name}\")\n",
    "        print(f\"Status: {model.status}\")\n",
    "        print(f\"Created at: {model.created_at}\")\n",
    "        print(\"-----------------------------------\")\n",
    "else:\n",
    "    print(\"Unexpected response format:\", finetuned_models)\n"
   ]
  },
  {
   "cell_type": "markdown",
   "metadata": {},
   "source": [
    "Unexpected response format: finetuned_models=[FinetunedModel(id='c62448a1-530a-45bb-8ca4-9e4950f39ac0', \n",
    "name='single-label-finetune', \n",
    "creator_id='89783f58-3842-4032-8f10-9ec9fae0ff55', organization_id='4dcd1a7b-dcae-4e35-a6e6-8c444318f7f0', \n",
    "settings=Settings(\n",
    "    base_model=BaseModel(name='english', \n",
    "        version='1.0.0', \n",
    "        base_type='BASE_TYPE_CLASSIFICATION', \n",
    "        strategy='STRATEGY_TFEW'), \n",
    "    dataset_id='single-label-dataset-tvf7wf', \n",
    "    hyperparameters=None, \n",
    "    multi_label=None, \n",
    "    wandb=None), \n",
    "    status='STATUS_READY', \n",
    "    created_at=datetime.datetime(2025, 3, 13, 18, 56, 23, 717399, tzinfo=datetime.timezone.utc), \n",
    "    updated_at=datetime.datetime(2025, 3, 13, 19, 12, 59, 738757, \n",
    "        tzinfo=datetime.timezone.utc), \n",
    "    completed_at=datetime.datetime(2025, 3, 13, 19, 12, 59, 738757, tzinfo=datetime.timezone.utc), \n",
    "    last_used=None)] \n",
    "\n",
    "next_page_token=None \n",
    "total_size=1"
   ]
  },
  {
   "cell_type": "code",
   "execution_count": 8,
   "metadata": {},
   "outputs": [
    {
     "name": "stdout",
     "output_type": "stream",
     "text": [
      "fine-tune ID: c62448a1-530a-45bb-8ca4-9e4950f39ac0, fine-tune status: STATUS_READY\n",
      "id='c195e965-4725-4320-8149-60fb4163ed9c' classifications=[ClassifyResponseClassificationsItem(id='461255de-2ae9-4798-9514-2a8a2781f1bc', input='i didnt feel humiliated', prediction='sadness', predictions=['sadness'], confidence=0.9995045, confidences=[0.9995045], labels={'anger': ClassifyResponseClassificationsItemLabelsValue(confidence=0.0003725919), 'fear': ClassifyResponseClassificationsItemLabelsValue(confidence=4.0006358e-05), 'joy': ClassifyResponseClassificationsItemLabelsValue(confidence=3.3491913e-05), 'love': ClassifyResponseClassificationsItemLabelsValue(confidence=4.2337746e-05), 'sadness': ClassifyResponseClassificationsItemLabelsValue(confidence=0.9995045), 'surprise': ClassifyResponseClassificationsItemLabelsValue(confidence=7.068441e-06)}, classification_type='single-label'), ClassifyResponseClassificationsItem(id='c6778b13-7f8a-425a-8ed3-965ef491d962', input='i can go from feeling so hopeless to so damned hopeful just from being around someone who cares and is awake', prediction='sadness', predictions=['sadness'], confidence=0.99978495, confidences=[0.99978495], labels={'anger': ClassifyResponseClassificationsItemLabelsValue(confidence=3.799905e-05), 'fear': ClassifyResponseClassificationsItemLabelsValue(confidence=0.00010636302), 'joy': ClassifyResponseClassificationsItemLabelsValue(confidence=2.0181142e-05), 'love': ClassifyResponseClassificationsItemLabelsValue(confidence=4.4122735e-05), 'sadness': ClassifyResponseClassificationsItemLabelsValue(confidence=0.99978495), 'surprise': ClassifyResponseClassificationsItemLabelsValue(confidence=6.412596e-06)}, classification_type='single-label')] meta=ApiMeta(api_version=ApiMetaApiVersion(version='1', is_deprecated=None, is_experimental=None), billed_units=ApiMetaBilledUnits(images=None, input_tokens=None, output_tokens=None, search_units=None, classifications=2.0), tokens=None, warnings=None)\n"
     ]
    }
   ],
   "source": [
    "MODEL_ID = 'c62448a1-530a-45bb-8ca4-9e4950f39ac0'\n",
    "\n",
    "print(\n",
    "    f\"fine-tune ID: {MODEL_ID}, \"\n",
    "    f\"fine-tune status: {'STATUS_READY'}\"\n",
    ")\n",
    "\n",
    "## Call Model\n",
    "\n",
    "response = co.classify(\n",
    "    inputs=[\n",
    "        \"i didnt feel humiliated\",\n",
    "        \"i can go from feeling so hopeless to so damned hopeful just from being around someone who cares and is awake\"\n",
    "    ], model = MODEL_ID + \"-ft\"\n",
    ")\n",
    "\n",
    "\n",
    "print(response)"
   ]
  },
  {
   "cell_type": "markdown",
   "metadata": {},
   "source": [
    "fine-tune ID: c62448a1-530a-45bb-8ca4-9e4950f39ac0, fine-tune status: STATUS_READY\n",
    "id='c195e965-4725-4320-8149-60fb4163ed9c' classifications=[ClassifyResponseClassificationsItem(id='461255de-2ae9-4798-9514-2a8a2781f1bc', \n",
    "\n",
    "input='i didnt feel humiliated', prediction='sadness', predictions=['sadness'], confidence=0.9995045, confidences=[0.9995045], labels={'anger': ClassifyResponseClassificationsItemLabelsValue(confidence=0.0003725919), 'fear': ClassifyResponseClassificationsItemLabelsValue(confidence=4.0006358e-05), 'joy': ClassifyResponseClassificationsItemLabelsValue(confidence=3.3491913e-05), 'love': ClassifyResponseClassificationsItemLabelsValue(confidence=4.2337746e-05), 'sadness': ClassifyResponseClassificationsItemLabelsValue(confidence=0.9995045), 'surprise': ClassifyResponseClassificationsItemLabelsValue(confidence=7.068441e-06)}, classification_type='single-label'), ClassifyResponseClassificationsItem(id='c6778b13-7f8a-425a-8ed3-965ef491d962', \n",
    "\n",
    "input='i can go from feeling so hopeless to so damned hopeful just from being around someone who cares and is awake', prediction='sadness', predictions=['sadness'], confidence=0.99978495, confidences=[0.99978495], labels={'anger': ClassifyResponseClassificationsItemLabelsValue(confidence=3.799905e-05), 'fear': ClassifyResponseClassificationsItemLabelsValue(confidence=0.00010636302), 'joy': ClassifyResponseClassificationsItemLabelsValue(confidence=2.0181142e-05), 'love': ClassifyResponseClassificationsItemLabelsValue(confidence=4.4122735e-05), 'sadness': ClassifyResponseClassificationsItemLabelsValue(confidence=0.99978495), 'surprise': ClassifyResponseClassificationsItemLabelsValue(confidence=6.412596e-06)}, classification_type='single-label')] meta=ApiMeta(api_version=ApiMetaApiVersion(version='1', is_deprecated=None, is_experimental=None), billed_units=ApiMetaBilledUnits(images=None, input_tokens=None, output_tokens=None, search_units=None, classifications=2.0), tokens=None, warnings=None)"
   ]
  },
  {
   "cell_type": "code",
   "execution_count": 12,
   "metadata": {},
   "outputs": [
    {
     "data": {
      "text/html": [
       "<div>\n",
       "<style scoped>\n",
       "    .dataframe tbody tr th:only-of-type {\n",
       "        vertical-align: middle;\n",
       "    }\n",
       "\n",
       "    .dataframe tbody tr th {\n",
       "        vertical-align: top;\n",
       "    }\n",
       "\n",
       "    .dataframe thead th {\n",
       "        text-align: right;\n",
       "    }\n",
       "</style>\n",
       "<table border=\"1\" class=\"dataframe\">\n",
       "  <thead>\n",
       "    <tr style=\"text-align: right;\">\n",
       "      <th></th>\n",
       "      <th>text</th>\n",
       "      <th>label</th>\n",
       "    </tr>\n",
       "  </thead>\n",
       "  <tbody>\n",
       "    <tr>\n",
       "      <th>0</th>\n",
       "      <td>im feeling rather rotten so im not very ambiti...</td>\n",
       "      <td>sadness</td>\n",
       "    </tr>\n",
       "    <tr>\n",
       "      <th>1</th>\n",
       "      <td>im updating my blog because i feel shitty</td>\n",
       "      <td>sadness</td>\n",
       "    </tr>\n",
       "    <tr>\n",
       "      <th>2</th>\n",
       "      <td>i never make her separate from me because i do...</td>\n",
       "      <td>sadness</td>\n",
       "    </tr>\n",
       "    <tr>\n",
       "      <th>3</th>\n",
       "      <td>i left with my bouquet of red and yellow tulip...</td>\n",
       "      <td>joy</td>\n",
       "    </tr>\n",
       "    <tr>\n",
       "      <th>4</th>\n",
       "      <td>i was feeling a little vain when i did this one</td>\n",
       "      <td>sadness</td>\n",
       "    </tr>\n",
       "  </tbody>\n",
       "</table>\n",
       "</div>"
      ],
      "text/plain": [
       "                                                text    label\n",
       "0  im feeling rather rotten so im not very ambiti...  sadness\n",
       "1          im updating my blog because i feel shitty  sadness\n",
       "2  i never make her separate from me because i do...  sadness\n",
       "3  i left with my bouquet of red and yellow tulip...      joy\n",
       "4    i was feeling a little vain when i did this one  sadness"
      ]
     },
     "execution_count": 12,
     "metadata": {},
     "output_type": "execute_result"
    }
   ],
   "source": [
    "# Convert Data\n",
    "data_pth = \"data/test.txt\"\n",
    "df = pd.read_csv(data_pth, sep=\";\", header=None, names=['text', 'label'])\n",
    "df.to_csv(\"data/transformed-test.csv\", index=False)\n",
    "\n",
    "df.head()"
   ]
  },
  {
   "cell_type": "code",
   "execution_count": 17,
   "metadata": {},
   "outputs": [
    {
     "data": {
      "text/plain": [
       "'\"im feeling rather rotten so im not very ambitious right now\", \"im updating my blog because i feel shitty\", \"i never make her separate from me because i don t ever want her to feel like i m ashamed with her\", \"i left with my bouquet of red and yellow tulips under my arm feeling slightly more optimistic than when i arrived\", \"i was feeling a little vain when i did this one\", \"i cant walk into a shop anywhere where i do not feel uncomfortable\", \"i felt anger when at the end of a telephone call\", \"i explain why i clung to a relationship with a boy who was in many ways immature and uncommitted despite the excitement i should have been feeling for getting accepted into the masters program at the university of virginia\", \"i like to have the same breathless feeling as a reader eager to see what will happen next\", \"i jest i feel grumpy tired and pre menstrual which i probably am but then again its only been a week and im about as fit as a walrus on vacation for the summer\"'"
      ]
     },
     "execution_count": 17,
     "metadata": {},
     "output_type": "execute_result"
    }
   ],
   "source": [
    "sample_output = ', '.join([f'\"{i}\"' for i in df.text.head(10)])\n",
    "sample_output"
   ]
  },
  {
   "cell_type": "code",
   "execution_count": 43,
   "metadata": {},
   "outputs": [
    {
     "name": "stdout",
     "output_type": "stream",
     "text": [
      "fine-tune ID: c62448a1-530a-45bb-8ca4-9e4950f39ac0, fine-tune status: STATUS_READY\n"
     ]
    },
    {
     "name": "stderr",
     "output_type": "stream",
     "text": [
      "100%|██████████| 23/23 [00:10<00:00,  2.18it/s]"
     ]
    },
    {
     "name": "stdout",
     "output_type": "stream",
     "text": [
      "Overall accuracy: 0.9320 \n",
      "\n",
      "Sample Predictions \n",
      "\n",
      "                                                text prediction  confidence  \\\n",
      "0  im feeling rather rotten so im not very ambiti...    sadness    0.999861   \n",
      "1          im updating my blog because i feel shitty    sadness    0.999815   \n",
      "2  i never make her separate from me because i do...    sadness    0.999851   \n",
      "3  i left with my bouquet of red and yellow tulip...        joy    0.999520   \n",
      "4    i was feeling a little vain when i did this one    sadness    0.999912   \n",
      "5  i cant walk into a shop anywhere where i do no...       fear    0.996856   \n",
      "6   i felt anger when at the end of a telephone call      anger    0.990098   \n",
      "7  i explain why i clung to a relationship with a...        joy    0.521207   \n",
      "8  i like to have the same breathless feeling as ...        joy    0.998094   \n",
      "9  i jest i feel grumpy tired and pre menstrual w...      anger    0.998516   \n",
      "\n",
      "  true_label  \n",
      "0    sadness  \n",
      "1    sadness  \n",
      "2    sadness  \n",
      "3        joy  \n",
      "4    sadness  \n",
      "5       fear  \n",
      "6      anger  \n",
      "7        joy  \n",
      "8        joy  \n",
      "9      anger  \n"
     ]
    },
    {
     "name": "stderr",
     "output_type": "stream",
     "text": [
      "\n"
     ]
    }
   ],
   "source": [
    "from tqdm import tqdm\n",
    "\n",
    "print(\n",
    "    f\"fine-tune ID: {MODEL_ID}, \"\n",
    "    f\"fine-tune status: {'STATUS_READY'}\"\n",
    ")\n",
    "\n",
    "## Call Model\n",
    "batch_size = 90\n",
    "all_results = []\n",
    "\n",
    "num_batches = int(np.ceil(len(df) / batch_size))\n",
    "\n",
    "for i in tqdm(range(num_batches)):\n",
    "    start_idx = i * batch_size\n",
    "    end_idx = min((i + 1) * batch_size, len(df))\n",
    "\n",
    "    batch_texts = df.text[start_idx:end_idx].tolist()\n",
    "    batch_labels = df.label[start_idx:end_idx].tolist()\n",
    "\n",
    "    response = co.classify(\n",
    "        inputs=batch_texts, \n",
    "        model = MODEL_ID + \"-ft\"\n",
    "    )\n",
    "\n",
    "    batch_results = [\n",
    "        {\n",
    "            'text': item.input, \n",
    "            'prediction': item.prediction, \n",
    "            'confidence': item.confidence,\n",
    "            'true_label': batch_labels[j]  # true label directly\n",
    "        }\n",
    "        for j, item in enumerate(response.classifications)\n",
    "    ]\n",
    "\n",
    "    all_results.extend(batch_results)\n",
    "\n",
    "# Create dataframe with predictions\n",
    "# data = [\n",
    "#     {\n",
    "#         'text': item.input, \n",
    "#         'prediction': item.prediction, \n",
    "#         'confidence': item.confidence,\n",
    "#         'true_label': test_labels[i]  # Add the true label directly\n",
    "#     }\n",
    "#     for i, item in enumerate(response.classifications)\n",
    "# ]\n",
    "\n",
    "df_output = pd.DataFrame(all_results)\n",
    "\n",
    "# Display the results\n",
    "accuracy = (df_output['prediction'] == df_output['true_label']).mean()\n",
    "print(f\"Overall accuracy: {accuracy:.4f}\", \"\\n\")\n",
    "\n",
    "print(\"Sample Predictions\", \"\\n\")\n",
    "print(df_output[['text', 'prediction', 'confidence', 'true_label']].head(10))"
   ]
  },
  {
   "cell_type": "code",
   "execution_count": 35,
   "metadata": {},
   "outputs": [
    {
     "name": "stdout",
     "output_type": "stream",
     "text": [
      "                                                text prediction  confidence  \\\n",
      "0  i give you a first look at what data analysis ...        joy    0.965547   \n",
      "\n",
      "  true_label  \n",
      "0    sadness  \n"
     ]
    }
   ],
   "source": [
    "response = co.classify(\n",
    "    inputs=[\"I give you a first look at what data analysis with Positron will look like\"], model = MODEL_ID + \"-ft\"\n",
    ")\n",
    "\n",
    "data = [\n",
    "    {\n",
    "        'text': item.input, \n",
    "        'prediction': item.prediction, \n",
    "        'confidence': item.confidence,\n",
    "        'true_label': test_labels[i]  # Add the true label directly\n",
    "    }\n",
    "    for i, item in enumerate(response.classifications)\n",
    "]\n",
    "\n",
    "output = pd.DataFrame(data)\n",
    "print(output)"
   ]
  },
  {
   "cell_type": "markdown",
   "metadata": {},
   "source": [
    "----------------------------------------------------RAW RESPONSE TEXT----------------------------------------------------\n",
    "fine-tune ID: c62448a1-530a-45bb-8ca4-9e4950f39ac0, fine-tune status: STATUS_READY\n",
    "id='c79da695-ebdb-419d-a0f6-4d25c8f3307b' classifications=[ClassifyResponseClassificationsItem(id='dbec0e2d-1277-45ba-903b-216bfd639d44', input='\" im feeling rather rotten so im not very ambitious right now \"', prediction='sadness', predictions=['sadness'], confidence=0.9998542, confidences=[0.9998542], labels={'anger': ClassifyResponseClassificationsItemLabelsValue(confidence=5.4011278e-05), 'fear': ClassifyResponseClassificationsItemLabelsValue(confidence=2.6711423e-05), 'joy': ClassifyResponseClassificationsItemLabelsValue(confidence=2.0701547e-05), 'love': ClassifyResponseClassificationsItemLabelsValue(confidence=3.9864328e-05), 'sadness': ClassifyResponseClassificationsItemLabelsValue(confidence=0.9998542), 'surprise': ClassifyResponseClassificationsItemLabelsValue(confidence=4.5297975e-06)}, classification_type='single-label'), ClassifyResponseClassificationsItem(id='974195b7-e004-402c-bc33-6bd824a5cd6f', input='\" im updating my blog because i feel shitty \"', prediction='sadness', predictions=['sadness'], confidence=0.9998038, confidences=[0.9998038], labels={'anger': ClassifyResponseClassificationsItemLabelsValue(confidence=9.2773225e-05), 'fear': ClassifyResponseClassificationsItemLabelsValue(confidence=4.2103e-05), 'joy': ClassifyResponseClassificationsItemLabelsValue(confidence=3.5350564e-05), 'love': ClassifyResponseClassificationsItemLabelsValue(confidence=2.227356e-05), 'sadness': ClassifyResponseClassificationsItemLabelsValue(confidence=0.9998038), 'surprise': ClassifyResponseClassificationsItemLabelsValue(confidence=3.6969266e-06)}, classification_type='single-label'), ClassifyResponseClassificationsItem(id='4093b988-a1ac-4b8a-8aa1-48008f53ae1c', input='\" i never make her separate from me because i don t ever want her to feel like i m ashamed with her \"', prediction='sadness', predictions=['sadness'], confidence=0.99984527, confidences=[0.99984527], labels={'anger': ClassifyResponseClassificationsItemLabelsValue(confidence=6.649932e-05), 'fear': ClassifyResponseClassificationsItemLabelsValue(confidence=2.8157585e-05), 'joy': ClassifyResponseClassificationsItemLabelsValue(confidence=2.080269e-05), 'love': ClassifyResponseClassificationsItemLabelsValue(confidence=3.470213e-05), 'sadness': ClassifyResponseClassificationsItemLabelsValue(confidence=0.99984527), 'surprise': ClassifyResponseClassificationsItemLabelsValue(confidence=4.5831525e-06)}, classification_type='single-label'), ClassifyResponseClassificationsItem(id='3d15f4c6-c033-4527-95f8-6883e273b9fc', input='\" i left with my bouquet of red and yellow tulips under my arm feeling slightly more optimistic than when i arrived \"', prediction='joy', predictions=['joy'], confidence=0.99957085, confidences=[0.99957085], labels={'anger': ClassifyResponseClassificationsItemLabelsValue(confidence=2.0733048e-06), 'fear': ClassifyResponseClassificationsItemLabelsValue(confidence=5.8212772e-05), 'joy': ClassifyResponseClassificationsItemLabelsValue(confidence=0.99957085), 'love': ClassifyResponseClassificationsItemLabelsValue(confidence=0.0003382788), 'sadness': ClassifyResponseClassificationsItemLabelsValue(confidence=2.2421116e-05), 'surprise': ClassifyResponseClassificationsItemLabelsValue(confidence=8.152172e-06)}, classification_type='single-label'), ClassifyResponseClassificationsItem(id='290b956c-f241-416b-9ba0-591209088495', input='\" i was feeling a little vain when i did this one \"', prediction='sadness', predictions=['sadness'], confidence=0.9999082, confidences=[0.9999082], labels={'anger': ClassifyResponseClassificationsItemLabelsValue(confidence=2.7912947e-05), 'fear': ClassifyResponseClassificationsItemLabelsValue(confidence=2.0926258e-05), 'joy': ClassifyResponseClassificationsItemLabelsValue(confidence=2.1380709e-05), 'love': ClassifyResponseClassificationsItemLabelsValue(confidence=1.6847593e-05), 'sadness': ClassifyResponseClassificationsItemLabelsValue(confidence=0.9999082), 'surprise': ClassifyResponseClassificationsItemLabelsValue(confidence=4.728935e-06)}, classification_type='single-label'), ClassifyResponseClassificationsItem(id='9e4d7517-4756-48d7-ac57-e14f75d6b6d5', input='\" i cant walk into a shop anywhere where i do not feel uncomfortable \"', prediction='fear', predictions=['fear'], confidence=0.9972558, confidences=[0.9972558], labels={'anger': ClassifyResponseClassificationsItemLabelsValue(confidence=0.00047780748), 'fear': ClassifyResponseClassificationsItemLabelsValue(confidence=0.9972558), 'joy': ClassifyResponseClassificationsItemLabelsValue(confidence=2.1386559e-05), 'love': ClassifyResponseClassificationsItemLabelsValue(confidence=9.2898976e-05), 'sadness': ClassifyResponseClassificationsItemLabelsValue(confidence=0.001842387), 'surprise': ClassifyResponseClassificationsItemLabelsValue(confidence=0.00030970311)}, classification_type='single-label'), ClassifyResponseClassificationsItem(id='aaf9f48a-278d-4715-b4c1-0f8a7cfbb81f', input='\" i felt anger when at the end of a telephone call \"', prediction='anger', predictions=['anger'], confidence=0.9892603, confidences=[0.9892603], labels={'anger': ClassifyResponseClassificationsItemLabelsValue(confidence=0.9892603), 'fear': ClassifyResponseClassificationsItemLabelsValue(confidence=0.0034328243), 'joy': ClassifyResponseClassificationsItemLabelsValue(confidence=0.000763353), 'love': ClassifyResponseClassificationsItemLabelsValue(confidence=5.6996738e-05), 'sadness': ClassifyResponseClassificationsItemLabelsValue(confidence=0.0064290366), 'surprise': ClassifyResponseClassificationsItemLabelsValue(confidence=5.744377e-05)}, classification_type='single-label'), ClassifyResponseClassificationsItem(id='f3f65e7a-bfc8-457a-8077-b0dcadfef964', input='\" i explain why i clung to a relationship with a boy who was in many ways immature and uncommitted despite the excitement i should have been feeling for getting accepted into the masters program at the university of virginia \"', prediction='joy', predictions=['joy'], confidence=0.5513103, confidences=[0.5513103], labels={'anger': ClassifyResponseClassificationsItemLabelsValue(confidence=7.754919e-05), 'fear': ClassifyResponseClassificationsItemLabelsValue(confidence=2.360502e-05), 'joy': ClassifyResponseClassificationsItemLabelsValue(confidence=0.5513103), 'love': ClassifyResponseClassificationsItemLabelsValue(confidence=0.44821212), 'sadness': ClassifyResponseClassificationsItemLabelsValue(confidence=0.0003599873), 'surprise': ClassifyResponseClassificationsItemLabelsValue(confidence=1.6414713e-05)}, classification_type='single-label'), ClassifyResponseClassificationsItem(id='5f3b046c-3992-4377-a5bd-93abc4e6305f', input='\" i like to have the same breathless feeling as a reader eager to see what will happen next \"', prediction='joy', predictions=['joy'], confidence=0.99803776, confidences=[0.99803776], labels={'anger': ClassifyResponseClassificationsItemLabelsValue(confidence=2.6950858e-05), 'fear': ClassifyResponseClassificationsItemLabelsValue(confidence=0.00017746631), 'joy': ClassifyResponseClassificationsItemLabelsValue(confidence=0.99803776), 'love': ClassifyResponseClassificationsItemLabelsValue(confidence=0.0016969593), 'sadness': ClassifyResponseClassificationsItemLabelsValue(confidence=3.347544e-05), 'surprise': ClassifyResponseClassificationsItemLabelsValue(confidence=2.7375272e-05)}, classification_type='single-label'), ClassifyResponseClassificationsItem(id='118ebf0e-2909-4a3b-adc5-122a443f64e7', input='\" i jest i feel grumpy tired and pre menstrual which i probably am but then again its only been a week and im about as fit as a walrus on vacation for the summer \"', prediction='anger', predictions=['anger'], confidence=0.9985562, confidences=[0.9985562], labels={'anger': ClassifyResponseClassificationsItemLabelsValue(confidence=0.9985562), 'fear': ClassifyResponseClassificationsItemLabelsValue(confidence=0.00078649103), 'joy': ClassifyResponseClassificationsItemLabelsValue(confidence=3.985148e-05), 'love': ClassifyResponseClassificationsItemLabelsValue(confidence=4.541623e-06), 'sadness': ClassifyResponseClassificationsItemLabelsValue(confidence=0.0005902062), 'surprise': ClassifyResponseClassificationsItemLabelsValue(confidence=2.2706687e-05)}, classification_type='single-label')] meta=ApiMeta(api_version=ApiMetaApiVersion(version='1', is_deprecated=None, is_experimental=None), billed_units=ApiMetaBilledUnits(images=None, input_tokens=None, output_tokens=None, search_units=None, classifications=10.0), tokens=None, warnings=None)"
   ]
  }
 ],
 "metadata": {
  "kernelspec": {
   "display_name": "agents_venv",
   "language": "python",
   "name": "python3"
  },
  "language_info": {
   "codemirror_mode": {
    "name": "ipython",
    "version": 3
   },
   "file_extension": ".py",
   "mimetype": "text/x-python",
   "name": "python",
   "nbconvert_exporter": "python",
   "pygments_lexer": "ipython3",
   "version": "3.11.9"
  }
 },
 "nbformat": 4,
 "nbformat_minor": 2
}
